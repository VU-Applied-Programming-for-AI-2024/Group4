{
 "cells": [
  {
   "cell_type": "code",
   "execution_count": 1,
   "metadata": {},
   "outputs": [],
   "source": [
    "from sqlalchemy import create_engine\n",
    "from sqlalchemy.orm import sessionmaker, declarative_base\n",
    "from furniture import Furniture"
   ]
  },
  {
   "cell_type": "code",
   "execution_count": 2,
   "metadata": {},
   "outputs": [],
   "source": [
    "Base = declarative_base()"
   ]
  },
  {
   "cell_type": "code",
   "execution_count": 3,
   "metadata": {},
   "outputs": [],
   "source": [
    "engine = create_engine(\"sqlite:///pour&listen.db\")"
   ]
  },
  {
   "cell_type": "code",
   "execution_count": 4,
   "metadata": {},
   "outputs": [],
   "source": [
    "Session = sessionmaker(bind=engine)\n",
    "session = Session()\n",
    "\n",
    "Base.metadata.create_all(engine)"
   ]
  },
  {
   "cell_type": "code",
   "execution_count": 5,
   "metadata": {},
   "outputs": [],
   "source": [
    "import pandas as pd\n",
    "\n",
    "df = pd.read_json('add.json')\n",
    "df = df.to_dict('records')"
   ]
  },
  {
   "cell_type": "code",
   "execution_count": 6,
   "metadata": {},
   "outputs": [
    {
     "name": "stdout",
     "output_type": "stream",
     "text": [
      "[{'id': 1, 'name': 'Bar Misc', 'label': 'misc', 'path': 'Bar-Recreation.png'}, {'id': 2, 'name': 'Bar Theme', 'label': 'theme', 'path': 'Bar-Bar.png'}, {'id': 3, 'name': 'Bar Floor', 'label': 'floor', 'path': 'Bar-Floor.png'}, {'id': 4, 'name': 'Bar View', 'label': 'view', 'path': 'Bar-View.png'}, {'id': 5, 'name': 'Coffee View', 'label': 'view', 'path': 'Coffee- view.png'}, {'id': 6, 'name': 'Coffe Shop Theme', 'label': 'theme', 'path': 'Coffee-coffee shop.png'}, {'id': 7, 'name': 'Coffee Misc', 'label': 'misc', 'path': 'Coffee-decoration.png'}, {'id': 8, 'name': 'Coffee Floor', 'label': 'floor', 'path': 'Coffee-floor.png'}]\n"
     ]
    }
   ],
   "source": [
    "print(df)"
   ]
  },
  {
   "cell_type": "code",
   "execution_count": 7,
   "metadata": {},
   "outputs": [],
   "source": [
    "pending_furnitures = [Furniture(**f) for f in df]"
   ]
  },
  {
   "cell_type": "code",
   "execution_count": 8,
   "metadata": {},
   "outputs": [],
   "source": [
    "for f in pending_furnitures:\n",
    "    session.add(f)"
   ]
  },
  {
   "cell_type": "code",
   "execution_count": 9,
   "metadata": {},
   "outputs": [],
   "source": [
    "session.commit()"
   ]
  },
  {
   "cell_type": "code",
   "execution_count": 10,
   "metadata": {},
   "outputs": [
    {
     "name": "stdout",
     "output_type": "stream",
     "text": [
      "[(1, 'Bar Misc', 'misc', 'Bar-Recreation.png'), (2, 'Bar Theme', 'theme', 'Bar-Bar.png'), (3, 'Bar Floor', 'floor', 'Bar-Floor.png'), (4, 'Bar View', 'view', 'Bar-View.png'), (5, 'Coffee View', 'view', 'Coffee- view.png'), (6, 'Coffe Shop Theme', 'theme', 'Coffee-coffee shop.png'), (7, 'Coffee Misc', 'misc', 'Coffee-decoration.png'), (8, 'Coffee Floor', 'floor', 'Coffee-floor.png')]\n"
     ]
    }
   ],
   "source": [
    "from sqlalchemy import text\n",
    "\n",
    "print(session.execute(text('select * from furniture')).all())"
   ]
  }
 ],
 "metadata": {
  "kernelspec": {
   "display_name": "myenv",
   "language": "python",
   "name": "python3"
  },
  "language_info": {
   "codemirror_mode": {
    "name": "ipython",
    "version": 3
   },
   "file_extension": ".py",
   "mimetype": "text/x-python",
   "name": "python",
   "nbconvert_exporter": "python",
   "pygments_lexer": "ipython3",
   "version": "3.11.9"
  }
 },
 "nbformat": 4,
 "nbformat_minor": 2
}
