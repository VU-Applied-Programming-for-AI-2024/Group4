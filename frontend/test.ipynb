{
 "cells": [
  {
   "cell_type": "code",
   "execution_count": 9,
   "metadata": {},
   "outputs": [
    {
     "name": "stdout",
     "output_type": "stream",
     "text": [
      "Collecting tensorflow\n",
      "  Downloading tensorflow-2.13.1-cp38-cp38-manylinux_2_17_x86_64.manylinux2014_x86_64.whl (479.6 MB)\n",
      "\u001b[2K     \u001b[90m━━━━━━━━━━━━━━━━━━━━━━━━━━━━━━━━━━━━━━━\u001b[0m \u001b[32m479.6/479.6 MB\u001b[0m \u001b[31m3.6 MB/s\u001b[0m eta \u001b[36m0:00:00\u001b[0m00:01\u001b[0m00:04\u001b[0m\n",
      "\u001b[?25hCollecting numpy<=1.24.3,>=1.22\n",
      "  Downloading numpy-1.24.3-cp38-cp38-manylinux_2_17_x86_64.manylinux2014_x86_64.whl (17.3 MB)\n",
      "\u001b[2K     \u001b[90m━━━━━━━━━━━━━━━━━━━━━━━━━━━━━━━━━━━━━━━━\u001b[0m \u001b[32m17.3/17.3 MB\u001b[0m \u001b[31m5.9 MB/s\u001b[0m eta \u001b[36m0:00:00\u001b[0m00:01\u001b[0m00:01\u001b[0m\n",
      "\u001b[?25hCollecting absl-py>=1.0.0\n",
      "  Using cached absl_py-2.1.0-py3-none-any.whl (133 kB)\n",
      "Collecting google-pasta>=0.1.1\n",
      "  Using cached google_pasta-0.2.0-py3-none-any.whl (57 kB)\n",
      "Collecting libclang>=13.0.0\n",
      "  Using cached libclang-18.1.1-py2.py3-none-manylinux2010_x86_64.whl (24.5 MB)\n",
      "Collecting h5py>=2.9.0\n",
      "  Downloading h5py-3.11.0-cp38-cp38-manylinux_2_17_x86_64.manylinux2014_x86_64.whl (5.3 MB)\n",
      "\u001b[2K     \u001b[90m━━━━━━━━━━━━━━━━━━━━━━━━━━━━━━━━━━━━━━━━\u001b[0m \u001b[32m5.3/5.3 MB\u001b[0m \u001b[31m6.1 MB/s\u001b[0m eta \u001b[36m0:00:00\u001b[0m00:01\u001b[0m00:01\u001b[0m\n",
      "\u001b[?25hCollecting wrapt>=1.11.0\n",
      "  Downloading wrapt-1.16.0-cp38-cp38-manylinux_2_5_x86_64.manylinux1_x86_64.manylinux_2_17_x86_64.manylinux2014_x86_64.whl (83 kB)\n",
      "\u001b[2K     \u001b[90m━━━━━━━━━━━━━━━━━━━━━━━━━━━━━━━━━━━━━━━━\u001b[0m \u001b[32m83.4/83.4 KB\u001b[0m \u001b[31m13.0 MB/s\u001b[0m eta \u001b[36m0:00:00\u001b[0m\n",
      "\u001b[?25hRequirement already satisfied: protobuf!=4.21.0,!=4.21.1,!=4.21.2,!=4.21.3,!=4.21.4,!=4.21.5,<5.0.0dev,>=3.20.3 in ./myenv/lib/python3.8/site-packages (from tensorflow) (4.25.3)\n",
      "Requirement already satisfied: packaging in ./myenv/lib/python3.8/site-packages (from tensorflow) (24.1)\n",
      "Collecting tensorflow-estimator<2.14,>=2.13.0\n",
      "  Downloading tensorflow_estimator-2.13.0-py2.py3-none-any.whl (440 kB)\n",
      "\u001b[2K     \u001b[90m━━━━━━━━━━━━━━━━━━━━━━━━━━━━━━━━━━━━━━━\u001b[0m \u001b[32m440.8/440.8 KB\u001b[0m \u001b[31m7.5 MB/s\u001b[0m eta \u001b[36m0:00:00\u001b[0ma \u001b[36m0:00:01\u001b[0m\n",
      "\u001b[?25hCollecting astunparse>=1.6.0\n",
      "  Using cached astunparse-1.6.3-py2.py3-none-any.whl (12 kB)\n",
      "Collecting gast<=0.4.0,>=0.2.1\n",
      "  Downloading gast-0.4.0-py3-none-any.whl (9.8 kB)\n",
      "Collecting keras<2.14,>=2.13.1\n",
      "  Downloading keras-2.13.1-py3-none-any.whl (1.7 MB)\n",
      "\u001b[2K     \u001b[90m━━━━━━━━━━━━━━━━━━━━━━━━━━━━━━━━━━━━━━━━\u001b[0m \u001b[32m1.7/1.7 MB\u001b[0m \u001b[31m6.8 MB/s\u001b[0m eta \u001b[36m0:00:00\u001b[0ma \u001b[36m0:00:01\u001b[0m\n",
      "\u001b[?25hCollecting tensorboard<2.14,>=2.13\n",
      "  Downloading tensorboard-2.13.0-py3-none-any.whl (5.6 MB)\n",
      "\u001b[2K     \u001b[90m━━━━━━━━━━━━━━━━━━━━━━━━━━━━━━━━━━━━━━━━\u001b[0m \u001b[32m5.6/5.6 MB\u001b[0m \u001b[31m6.4 MB/s\u001b[0m eta \u001b[36m0:00:00\u001b[0m00:01\u001b[0m00:01\u001b[0m\n",
      "\u001b[?25hCollecting flatbuffers>=23.1.21\n",
      "  Using cached flatbuffers-24.3.25-py2.py3-none-any.whl (26 kB)\n",
      "Requirement already satisfied: grpcio<2.0,>=1.24.3 in ./myenv/lib/python3.8/site-packages (from tensorflow) (1.64.1)\n",
      "Collecting termcolor>=1.1.0\n",
      "  Using cached termcolor-2.4.0-py3-none-any.whl (7.7 kB)\n",
      "Collecting opt-einsum>=2.3.2\n",
      "  Using cached opt_einsum-3.3.0-py3-none-any.whl (65 kB)\n",
      "Requirement already satisfied: six>=1.12.0 in ./myenv/lib/python3.8/site-packages (from tensorflow) (1.16.0)\n",
      "Requirement already satisfied: setuptools in ./myenv/lib/python3.8/site-packages (from tensorflow) (56.0.0)\n",
      "Collecting tensorflow-io-gcs-filesystem>=0.23.1\n",
      "  Downloading tensorflow_io_gcs_filesystem-0.34.0-cp38-cp38-manylinux_2_12_x86_64.manylinux2010_x86_64.whl (2.4 MB)\n",
      "\u001b[2K     \u001b[90m━━━━━━━━━━━━━━━━━━━━━━━━━━━━━━━━━━━━━━━━\u001b[0m \u001b[32m2.4/2.4 MB\u001b[0m \u001b[31m3.5 MB/s\u001b[0m eta \u001b[36m0:00:00\u001b[0ma \u001b[36m0:00:01\u001b[0m\n",
      "\u001b[?25hCollecting typing-extensions<4.6.0,>=3.6.6\n",
      "  Downloading typing_extensions-4.5.0-py3-none-any.whl (27 kB)\n",
      "Collecting wheel<1.0,>=0.23.0\n",
      "  Using cached wheel-0.43.0-py3-none-any.whl (65 kB)\n",
      "Requirement already satisfied: google-auth<3,>=1.6.3 in ./myenv/lib/python3.8/site-packages (from tensorboard<2.14,>=2.13->tensorflow) (2.30.0)\n",
      "Collecting google-auth-oauthlib<1.1,>=0.5\n",
      "  Downloading google_auth_oauthlib-1.0.0-py2.py3-none-any.whl (18 kB)\n",
      "Collecting tensorboard-data-server<0.8.0,>=0.7.0\n",
      "  Using cached tensorboard_data_server-0.7.2-py3-none-manylinux_2_31_x86_64.whl (6.6 MB)\n",
      "Requirement already satisfied: werkzeug>=1.0.1 in ./myenv/lib/python3.8/site-packages (from tensorboard<2.14,>=2.13->tensorflow) (3.0.3)\n",
      "Collecting markdown>=2.6.8\n",
      "  Using cached Markdown-3.6-py3-none-any.whl (105 kB)\n",
      "Requirement already satisfied: requests<3,>=2.21.0 in ./myenv/lib/python3.8/site-packages (from tensorboard<2.14,>=2.13->tensorflow) (2.32.3)\n",
      "Requirement already satisfied: rsa<5,>=3.1.4 in ./myenv/lib/python3.8/site-packages (from google-auth<3,>=1.6.3->tensorboard<2.14,>=2.13->tensorflow) (4.9)\n",
      "Requirement already satisfied: cachetools<6.0,>=2.0.0 in ./myenv/lib/python3.8/site-packages (from google-auth<3,>=1.6.3->tensorboard<2.14,>=2.13->tensorflow) (5.3.3)\n",
      "Requirement already satisfied: pyasn1-modules>=0.2.1 in ./myenv/lib/python3.8/site-packages (from google-auth<3,>=1.6.3->tensorboard<2.14,>=2.13->tensorflow) (0.4.0)\n",
      "Collecting requests-oauthlib>=0.7.0\n",
      "  Downloading requests_oauthlib-2.0.0-py2.py3-none-any.whl (24 kB)\n",
      "Requirement already satisfied: importlib-metadata>=4.4 in ./myenv/lib/python3.8/site-packages (from markdown>=2.6.8->tensorboard<2.14,>=2.13->tensorflow) (7.1.0)\n",
      "Requirement already satisfied: certifi>=2017.4.17 in ./myenv/lib/python3.8/site-packages (from requests<3,>=2.21.0->tensorboard<2.14,>=2.13->tensorflow) (2024.6.2)\n",
      "Requirement already satisfied: urllib3<3,>=1.21.1 in ./myenv/lib/python3.8/site-packages (from requests<3,>=2.21.0->tensorboard<2.14,>=2.13->tensorflow) (2.2.1)\n",
      "Requirement already satisfied: charset-normalizer<4,>=2 in ./myenv/lib/python3.8/site-packages (from requests<3,>=2.21.0->tensorboard<2.14,>=2.13->tensorflow) (3.3.2)\n",
      "Requirement already satisfied: idna<4,>=2.5 in ./myenv/lib/python3.8/site-packages (from requests<3,>=2.21.0->tensorboard<2.14,>=2.13->tensorflow) (3.7)\n",
      "Requirement already satisfied: MarkupSafe>=2.1.1 in ./myenv/lib/python3.8/site-packages (from werkzeug>=1.0.1->tensorboard<2.14,>=2.13->tensorflow) (2.1.5)\n",
      "Requirement already satisfied: zipp>=0.5 in ./myenv/lib/python3.8/site-packages (from importlib-metadata>=4.4->markdown>=2.6.8->tensorboard<2.14,>=2.13->tensorflow) (3.19.2)\n",
      "Requirement already satisfied: pyasn1<0.7.0,>=0.4.6 in ./myenv/lib/python3.8/site-packages (from pyasn1-modules>=0.2.1->google-auth<3,>=1.6.3->tensorboard<2.14,>=2.13->tensorflow) (0.6.0)\n",
      "Collecting oauthlib>=3.0.0\n",
      "  Downloading oauthlib-3.2.2-py3-none-any.whl (151 kB)\n",
      "\u001b[2K     \u001b[90m━━━━━━━━━━━━━━━━━━━━━━━━━━━━━━━━━━━━━━━\u001b[0m \u001b[32m151.7/151.7 KB\u001b[0m \u001b[31m6.9 MB/s\u001b[0m eta \u001b[36m0:00:00\u001b[0m\n",
      "\u001b[?25hInstalling collected packages: libclang, flatbuffers, wrapt, wheel, typing-extensions, termcolor, tensorflow-io-gcs-filesystem, tensorflow-estimator, tensorboard-data-server, oauthlib, numpy, keras, google-pasta, gast, absl-py, requests-oauthlib, opt-einsum, markdown, h5py, astunparse, google-auth-oauthlib, tensorboard, tensorflow\n",
      "  Attempting uninstall: typing-extensions\n",
      "    Found existing installation: typing_extensions 4.12.2\n",
      "    Uninstalling typing_extensions-4.12.2:\n",
      "      Successfully uninstalled typing_extensions-4.12.2\n",
      "  Attempting uninstall: numpy\n",
      "    Found existing installation: numpy 1.24.4\n",
      "    Uninstalling numpy-1.24.4:\n",
      "      Successfully uninstalled numpy-1.24.4\n",
      "\u001b[31mERROR: pip's dependency resolver does not currently take into account all the packages that are installed. This behaviour is the source of the following dependency conflicts.\n",
      "torch 2.3.1 requires typing-extensions>=4.8.0, but you have typing-extensions 4.5.0 which is incompatible.\n",
      "sqlalchemy 2.0.30 requires typing-extensions>=4.6.0, but you have typing-extensions 4.5.0 which is incompatible.\u001b[0m\u001b[31m\n",
      "\u001b[0mSuccessfully installed absl-py-2.1.0 astunparse-1.6.3 flatbuffers-24.3.25 gast-0.4.0 google-auth-oauthlib-1.0.0 google-pasta-0.2.0 h5py-3.11.0 keras-2.13.1 libclang-18.1.1 markdown-3.6 numpy-1.24.3 oauthlib-3.2.2 opt-einsum-3.3.0 requests-oauthlib-2.0.0 tensorboard-2.13.0 tensorboard-data-server-0.7.2 tensorflow-2.13.1 tensorflow-estimator-2.13.0 tensorflow-io-gcs-filesystem-0.34.0 termcolor-2.4.0 typing-extensions-4.5.0 wheel-0.43.0 wrapt-1.16.0\n",
      "\u001b[33mWARNING: You are using pip version 22.0.4; however, version 24.0 is available.\n",
      "You should consider upgrading via the '/home/mokrota/bar-game/Group4/frontend/myenv/bin/python -m pip install --upgrade pip' command.\u001b[0m\u001b[33m\n",
      "\u001b[0mNote: you may need to restart the kernel to use updated packages.\n"
     ]
    }
   ],
   "source": [
    "pip install tensorflow"
   ]
  },
  {
   "cell_type": "code",
   "execution_count": 4,
   "metadata": {},
   "outputs": [],
   "source": [
    "from transformers import pipeline\n",
    "\n",
    "def data_analysis(messages, classifier):\n",
    "    results = []\n",
    "    for message in messages:\n",
    "        results.append(classifier(message))\n",
    "    return results\n",
    "\n",
    "\n",
    "MODEL = \"cardiffnlp/tweet-topic-21-multi\"\n",
    "\n",
    "classifier = pipeline(\"text-classification\", model=MODEL, tokenizer=MODEL, return_all_scores=True)\n",
    "\n",
    "raw = \"\"\"Alex: Hey, did you catch the game last night?\n",
    "\n",
    "Jamie: Yeah, it was amazing! That last-minute goal was incredible.\n",
    "\n",
    "Alex: I know, right? I was on the edge of my seat the whole time.\n",
    "\n",
    "Jamie: Same here. Our team really pulled through in the end.\n",
    "\n",
    "Alex: Who do you think was the MVP?\n",
    "\n",
    "Jamie: Definitely the goalkeeper. Those saves were unbelievable.\n",
    "\n",
    "Alex: Agreed. They really kept us in the game.\n",
    "\n",
    "Jamie: By the way, did you see the new movie trailer that dropped today?\n",
    "\n",
    "Alex: No, I haven't had a chance yet. Which movie?\n",
    "\n",
    "Jamie: The new Marvel one. It looks like it's going to be epic!\n",
    "\n",
    "Alex: I'll have to check it out later. I'm always up for a good Marvel movie.\n",
    "\n",
    "Jamie: Yeah, it's definitely worth a watch. Can't wait for the release.\n",
    "\n",
    "Alex: Thanks for the heads-up. I'll make sure to watch it tonight.\n",
    "\n",
    "Jamie: No problem! Let me know what you think once you’ve seen it.\"\"\"\n",
    "\n",
    "messages = list(map(lambda message: message.strip('Alex: ').strip('Jamie: '), raw.split('\\n\\n')))\n",
    "\n",
    "\n"
   ]
  },
  {
   "cell_type": "code",
   "execution_count": 5,
   "metadata": {},
   "outputs": [],
   "source": [
    "alex_messages = messages[::2]"
   ]
  },
  {
   "cell_type": "code",
   "execution_count": 6,
   "metadata": {},
   "outputs": [
    {
     "name": "stdout",
     "output_type": "stream",
     "text": [
      "['Hey, did you catch the game last night?', 'I know, right? I was on the edge of my seat the whole time.', 'Who do you think was the MVP?', 'greed. They really kept us in the game.', \"No, I haven't had a chance yet. Which movie?\", \"I'll have to check it out later. I'm always up for a good Marvel movie.\", \"Thanks for the heads-up. I'll make sure to watch it tonight.\"]\n"
     ]
    }
   ],
   "source": [
    "print(alex_messages)"
   ]
  },
  {
   "cell_type": "code",
   "execution_count": 18,
   "metadata": {},
   "outputs": [],
   "source": [
    "alex_res = data_analysis(alex_messages, classifier)"
   ]
  },
  {
   "cell_type": "code",
   "execution_count": 19,
   "metadata": {},
   "outputs": [],
   "source": [
    "alex_res = list(map(lambda x: x[0], alex_res))"
   ]
  },
  {
   "cell_type": "code",
   "execution_count": 20,
   "metadata": {},
   "outputs": [
    {
     "name": "stdout",
     "output_type": "stream",
     "text": [
      "[{'label': 'arts_&_culture', 'score': 0.0026143293362110853}, {'label': 'business_&_entrepreneurs', 'score': 0.006670586299151182}, {'label': 'celebrity_&_pop_culture', 'score': 0.012579267844557762}, {'label': 'diaries_&_daily_life', 'score': 0.03839171305298805}, {'label': 'family', 'score': 0.0039275833405554295}, {'label': 'fashion_&_style', 'score': 0.0028197607025504112}, {'label': 'film_tv_&_video', 'score': 0.008909337222576141}, {'label': 'fitness_&_health', 'score': 0.0060307951644063}, {'label': 'food_&_dining', 'score': 0.0037408433854579926}, {'label': 'gaming', 'score': 0.05670066922903061}, {'label': 'learning_&_educational', 'score': 0.0030947355553507805}, {'label': 'music', 'score': 0.0026733747217804193}, {'label': 'news_&_social_concern', 'score': 0.011613957583904266}, {'label': 'other_hobbies', 'score': 0.005833378527313471}, {'label': 'relationships', 'score': 0.005245057865977287}, {'label': 'science_&_technology', 'score': 0.003800693666562438}, {'label': 'sports', 'score': 0.993423581123352}, {'label': 'travel_&_adventure', 'score': 0.0031380888540297747}, {'label': 'youth_&_student_life', 'score': 0.00306028313934803}]\n",
      "[{'label': 'arts_&_culture', 'score': 0.049164559692144394}, {'label': 'business_&_entrepreneurs', 'score': 0.005356046836823225}, {'label': 'celebrity_&_pop_culture', 'score': 0.03445332869887352}, {'label': 'diaries_&_daily_life', 'score': 0.6345058083534241}, {'label': 'family', 'score': 0.004006731323897839}, {'label': 'fashion_&_style', 'score': 0.0023564391303807497}, {'label': 'film_tv_&_video', 'score': 0.038203250616788864}, {'label': 'fitness_&_health', 'score': 0.002123568207025528}, {'label': 'food_&_dining', 'score': 0.0015281214145943522}, {'label': 'gaming', 'score': 0.0032302176114171743}, {'label': 'learning_&_educational', 'score': 0.005509658250957727}, {'label': 'music', 'score': 0.06065128371119499}, {'label': 'news_&_social_concern', 'score': 0.017550718039274216}, {'label': 'other_hobbies', 'score': 0.13904587924480438}, {'label': 'relationships', 'score': 0.033641088753938675}, {'label': 'science_&_technology', 'score': 0.0018225599778816104}, {'label': 'sports', 'score': 0.005060283932834864}, {'label': 'travel_&_adventure', 'score': 0.004351826384663582}, {'label': 'youth_&_student_life', 'score': 0.00296189496293664}]\n",
      "[{'label': 'arts_&_culture', 'score': 0.0025458240415900946}, {'label': 'business_&_entrepreneurs', 'score': 0.0034001911990344524}, {'label': 'celebrity_&_pop_culture', 'score': 0.10635875910520554}, {'label': 'diaries_&_daily_life', 'score': 0.02266334742307663}, {'label': 'family', 'score': 0.003121450310572982}, {'label': 'fashion_&_style', 'score': 0.0034576302859932184}, {'label': 'film_tv_&_video', 'score': 0.03722890838980675}, {'label': 'fitness_&_health', 'score': 0.004847231321036816}, {'label': 'food_&_dining', 'score': 0.0017974087968468666}, {'label': 'gaming', 'score': 0.010463747195899487}, {'label': 'learning_&_educational', 'score': 0.0017006115522235632}, {'label': 'music', 'score': 0.0031773021910339594}, {'label': 'news_&_social_concern', 'score': 0.011904865503311157}, {'label': 'other_hobbies', 'score': 0.003491312265396118}, {'label': 'relationships', 'score': 0.006034160032868385}, {'label': 'science_&_technology', 'score': 0.001718348590657115}, {'label': 'sports', 'score': 0.9906118512153625}, {'label': 'travel_&_adventure', 'score': 0.0017594147939234972}, {'label': 'youth_&_student_life', 'score': 0.0019925551023334265}]\n",
      "[{'label': 'arts_&_culture', 'score': 0.002449417021125555}, {'label': 'business_&_entrepreneurs', 'score': 0.00448094867169857}, {'label': 'celebrity_&_pop_culture', 'score': 0.01737372763454914}, {'label': 'diaries_&_daily_life', 'score': 0.022006923332810402}, {'label': 'family', 'score': 0.002297709695994854}, {'label': 'fashion_&_style', 'score': 0.0019857962615787983}, {'label': 'film_tv_&_video', 'score': 0.006769096944481134}, {'label': 'fitness_&_health', 'score': 0.005859158001840115}, {'label': 'food_&_dining', 'score': 0.002137129195034504}, {'label': 'gaming', 'score': 0.020226554945111275}, {'label': 'learning_&_educational', 'score': 0.0021790482569485903}, {'label': 'music', 'score': 0.005929484032094479}, {'label': 'news_&_social_concern', 'score': 0.0211612768471241}, {'label': 'other_hobbies', 'score': 0.004275997169315815}, {'label': 'relationships', 'score': 0.003267961787059903}, {'label': 'science_&_technology', 'score': 0.0029807465616613626}, {'label': 'sports', 'score': 0.9931647181510925}, {'label': 'travel_&_adventure', 'score': 0.0020983247086405754}, {'label': 'youth_&_student_life', 'score': 0.002475955057889223}]\n",
      "[{'label': 'arts_&_culture', 'score': 0.04162844270467758}, {'label': 'business_&_entrepreneurs', 'score': 0.006261719856411219}, {'label': 'celebrity_&_pop_culture', 'score': 0.04299810901284218}, {'label': 'diaries_&_daily_life', 'score': 0.30637747049331665}, {'label': 'family', 'score': 0.009374692104756832}, {'label': 'fashion_&_style', 'score': 0.002779317321255803}, {'label': 'film_tv_&_video', 'score': 0.9336071610450745}, {'label': 'fitness_&_health', 'score': 0.003330099629238248}, {'label': 'food_&_dining', 'score': 0.002559543587267399}, {'label': 'gaming', 'score': 0.00847603753209114}, {'label': 'learning_&_educational', 'score': 0.005089577753096819}, {'label': 'music', 'score': 0.007140233181416988}, {'label': 'news_&_social_concern', 'score': 0.017306532710790634}, {'label': 'other_hobbies', 'score': 0.014436457306146622}, {'label': 'relationships', 'score': 0.019885946065187454}, {'label': 'science_&_technology', 'score': 0.006694289855659008}, {'label': 'sports', 'score': 0.006506291683763266}, {'label': 'travel_&_adventure', 'score': 0.006789790466427803}, {'label': 'youth_&_student_life', 'score': 0.0035100202076137066}]\n",
      "[{'label': 'arts_&_culture', 'score': 0.04664306715130806}, {'label': 'business_&_entrepreneurs', 'score': 0.005948821548372507}, {'label': 'celebrity_&_pop_culture', 'score': 0.06020219251513481}, {'label': 'diaries_&_daily_life', 'score': 0.24117465317249298}, {'label': 'family', 'score': 0.009371494874358177}, {'label': 'fashion_&_style', 'score': 0.0030474711675196886}, {'label': 'film_tv_&_video', 'score': 0.9557117819786072}, {'label': 'fitness_&_health', 'score': 0.0049117435701191425}, {'label': 'food_&_dining', 'score': 0.002899227663874626}, {'label': 'gaming', 'score': 0.0068454016000032425}, {'label': 'learning_&_educational', 'score': 0.004036645404994488}, {'label': 'music', 'score': 0.00818095076829195}, {'label': 'news_&_social_concern', 'score': 0.021890267729759216}, {'label': 'other_hobbies', 'score': 0.012892668135464191}, {'label': 'relationships', 'score': 0.016390811651945114}, {'label': 'science_&_technology', 'score': 0.005984787829220295}, {'label': 'sports', 'score': 0.007715707644820213}, {'label': 'travel_&_adventure', 'score': 0.004656199365854263}, {'label': 'youth_&_student_life', 'score': 0.003104588482528925}]\n",
      "[{'label': 'arts_&_culture', 'score': 0.06943092495203018}, {'label': 'business_&_entrepreneurs', 'score': 0.010193786583840847}, {'label': 'celebrity_&_pop_culture', 'score': 0.02148258313536644}, {'label': 'diaries_&_daily_life', 'score': 0.6243360638618469}, {'label': 'family', 'score': 0.02004166692495346}, {'label': 'fashion_&_style', 'score': 0.0026869771536439657}, {'label': 'film_tv_&_video', 'score': 0.6861989498138428}, {'label': 'fitness_&_health', 'score': 0.019708873704075813}, {'label': 'food_&_dining', 'score': 0.004288028925657272}, {'label': 'gaming', 'score': 0.005779057275503874}, {'label': 'learning_&_educational', 'score': 0.014904080890119076}, {'label': 'music', 'score': 0.0017976331291720271}, {'label': 'news_&_social_concern', 'score': 0.11706690490245819}, {'label': 'other_hobbies', 'score': 0.05036018788814545}, {'label': 'relationships', 'score': 0.040647801011800766}, {'label': 'science_&_technology', 'score': 0.0059849293902516365}, {'label': 'sports', 'score': 0.004605423659086227}, {'label': 'travel_&_adventure', 'score': 0.005207957234233618}, {'label': 'youth_&_student_life', 'score': 0.007434309925884008}]\n"
     ]
    }
   ],
   "source": [
    "print(alex_res, sep='\\n')"
   ]
  }
 ],
 "metadata": {
  "kernelspec": {
   "display_name": "myenv",
   "language": "python",
   "name": "python3"
  },
  "language_info": {
   "codemirror_mode": {
    "name": "ipython",
    "version": 3
   },
   "file_extension": ".py",
   "mimetype": "text/x-python",
   "name": "python",
   "nbconvert_exporter": "python",
   "pygments_lexer": "ipython3",
   "version": "3.8.16"
  }
 },
 "nbformat": 4,
 "nbformat_minor": 2
}
