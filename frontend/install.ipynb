{
 "cells": [
  {
   "cell_type": "code",
   "execution_count": 9,
   "metadata": {},
   "outputs": [
    {
     "name": "stdout",
     "output_type": "stream",
     "text": [
      "Collecting sqlalchemy_utils\n",
      "  Downloading SQLAlchemy_Utils-0.41.2-py3-none-any.whl.metadata (4.2 kB)\n",
      "Requirement already satisfied: SQLAlchemy>=1.3 in c:\\users\\dou\\documents\\github\\group4\\frontend\\.venv\\lib\\site-packages (from sqlalchemy_utils) (2.0.30)\n",
      "Requirement already satisfied: typing-extensions>=4.6.0 in c:\\users\\dou\\documents\\github\\group4\\frontend\\.venv\\lib\\site-packages (from SQLAlchemy>=1.3->sqlalchemy_utils) (4.12.2)\n",
      "Requirement already satisfied: greenlet!=0.4.17 in c:\\users\\dou\\documents\\github\\group4\\frontend\\.venv\\lib\\site-packages (from SQLAlchemy>=1.3->sqlalchemy_utils) (3.0.3)\n",
      "Downloading SQLAlchemy_Utils-0.41.2-py3-none-any.whl (93 kB)\n",
      "   ---------------------------------------- 0.0/93.1 kB ? eta -:--:--\n",
      "   ---------------------------------------- 93.1/93.1 kB 2.7 MB/s eta 0:00:00\n",
      "Installing collected packages: sqlalchemy_utils\n",
      "Successfully installed sqlalchemy_utils-0.41.2\n",
      "Note: you may need to restart the kernel to use updated packages.\n"
     ]
    }
   ],
   "source": [
    "pip install sqlalchemy_utils"
   ]
  }
 ],
 "metadata": {
  "language_info": {
   "name": "python"
  }
 },
 "nbformat": 4,
 "nbformat_minor": 2
}
